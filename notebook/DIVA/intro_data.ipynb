{
  "cells": [
    {
      "cell_type": "raw",
      "metadata": {},
      "source": [
        "---\n",
        "title: \"A general introduction to the dataset for time-independent DIVA\"\n",
        "\n",
        "execute: \n",
        "  echo: false\n",
        "  warning: false\n",
        "\n",
        "fig-width: 10 \n",
        "fig-height: 10\n",
        "draft: true\n",
        "\n",
        "---"
      ],
      "id": "92ca82cc"
    },
    {
      "cell_type": "code",
      "metadata": {},
      "source": [
        "import pandas as pd \n",
        "import numpy as np \n",
        "import os\n",
        "import matplotlib.pyplot as plt \n",
        "\n",
        "rel_dir = '/home/kitadam/ENR_Sven/musings/data/jet-all-full.csv'\n",
        "jet_pdb_all = pd.read_csv(rel_dir)\n",
        "\n",
        "array_dir = '/home/kitadam/ENR_Sven/ped_ssm/diva_revisted/'\n",
        "with open(os.path.join(array_dir, 'mp_names_saved.txt'), 'r') as f:\n",
        "    all_names_str = f.read()\n",
        "relevant_mp_columns = all_names_str.split(',')\n",
        "file_lists = [sorted([os.path.join(array_dir, fname) for fname in os.listdir(array_dir) if fname.endswith(f'{key}.npy')]) for key in ['PROFS', 'MP', 'RADII', 'TIME']] \n",
        "profs_file_list, mps_file_list, radii_file_list, times_file_list = file_lists\n",
        "if os.getenv('PLOTSTYLE') is not None: \n",
        "    plt.style.use(os.getenv('PLOTSTYLE'))"
      ],
      "id": "a1350bc9",
      "execution_count": null,
      "outputs": []
    },
    {
      "cell_type": "markdown",
      "metadata": {},
      "source": [
        "## From raw PPF to dataset \n",
        "\n",
        "the goal is to keep it as raw as possible without detrimental effects to number of data points. \n",
        "\n",
        "0. JET PDB\n",
        "    - In the future, should check out just H-mode (power threshold?)\n",
        "1. Machine parameters are sampled at a different frequency than the HRTS data, so we map them to the HRTS time via linear interpolation: \n",
        "```python \n",
        "f = interp1d(mp_raw_time, mp_raw_data)\n",
        "relevant_mp_vals = f(relevant_time_of_hrts_sample)\n",
        "```\n",
        "2. Sometimes, HRTS doesn't work properly, and provides less than 63 radial points, so we drop those that are not 'full'. \n",
        "3. The gas fuelling rate is measured in $e/s$, which there are many electrons $~10^{22}$, so we divide by $10^{22}$. \n",
        "4. We clamp the power values to be positive, as sometimes they are negative (wtf?)\n",
        "5. We remove slices with profiles that have 0's or negative values anywhere radially (wtf?) \n",
        "    - JET Shot num 83294\n",
        "6. Slices are tossed if any radial points exist that satisfy $T_e >=5000$ **and** $n_e <= 5e^{18}$\n",
        "```python \n",
        "points_to_throwaway = torch.logical_and((profiles[:, 1, -15:] > 5000), (profiles[:, 0, -15:] < 5e18))\n",
        "slices_to_keep = ~torch.any(points_to_throwaway, dim=-1)\n",
        "```\n",
        "- **NB** We ignore the fact that the Radii (calculated from EFIT) change between slices/shots? \n"
      ],
      "id": "dac0c697"
    },
    {
      "cell_type": "markdown",
      "metadata": {},
      "source": [
        "#### Size of the dataset "
      ],
      "id": "033b4d0f"
    },
    {
      "cell_type": "code",
      "metadata": {},
      "source": [
        "print('Number of Shots', len(profs_file_list))\n",
        "print('Number of time slices', sum([np.load(_prof_str).shape[0] for _prof_str in profs_file_list]))\n",
        "\n",
        "# shot_num, prof, mp = profs_file_list[0].split('/')[-1].split('_')[0], np.load(profs_file_list[0]), np.load(mps_file_list[0])"
      ],
      "id": "45bd76fb",
      "execution_count": null,
      "outputs": []
    },
    {
      "cell_type": "markdown",
      "metadata": {},
      "source": [
        "## Statistics of dataset\n"
      ],
      "id": "4857393f"
    },
    {
      "cell_type": "code",
      "metadata": {},
      "source": [
        "import numpy as np \n",
        "\n",
        "class RunningStats:\n",
        "    def __init__(self, name):\n",
        "        self.name = name\n",
        "        self.n = 0\n",
        "        self.old_m = 0\n",
        "        self.new_m = 0\n",
        "        self.old_s = 0\n",
        "        self.new_s = 0\n",
        "        self.old_max, self.old_min = 0, np.inf\n",
        "        self.new_max, self.new_min = 0, np.inf\n",
        "\n",
        "    def clear(self):\n",
        "        self.n = 0\n",
        "\n",
        "    def push(self, x):\n",
        "        self.n += 1\n",
        "\n",
        "        if self.n == 1:\n",
        "            self.old_m = self.new_m = x\n",
        "            self.old_s = 0\n",
        "            self.old_max = self.new_max = x\n",
        "        else:\n",
        "            self.new_m = self.old_m + (x - self.old_m) / self.n\n",
        "            self.new_s = self.old_s + (x - self.old_m) * (x - self.new_m)\n",
        "            self.new_max = np.maximum(self.old_max, x)\n",
        "            self.new_min = np.minimum(self.old_min, x)\n",
        "\n",
        "            self.old_m = self.new_m\n",
        "            self.old_s = self.new_s\n",
        "            self.old_max = self.new_max\n",
        "            self.old_min = self.new_min\n",
        "\n",
        "    def mean(self):\n",
        "        return self.new_m if self.n else 0.0\n",
        "\n",
        "    def variance(self):\n",
        "        return self.new_s / (self.n - 1) if self.n > 1 else 0.0\n",
        "\n",
        "    def standard_deviation(self):\n",
        "        return np.sqrt(self.variance())\n",
        "\n",
        "    def _max(self): \n",
        "        return self.new_max \n",
        "    def _min(self): \n",
        "        return self.new_min\n",
        "\n",
        "    def __repr__(self):\n",
        "        return f'\\n####{self.name}####\\nn: {self.n}, mean: {self.mean()}, var: {self.variance()}, sd: {self.standard_deviation()}'"
      ],
      "id": "5259d2e9",
      "execution_count": null,
      "outputs": []
    },
    {
      "cell_type": "markdown",
      "metadata": {},
      "source": [
        "### Profiles"
      ],
      "id": "ad22876b"
    },
    {
      "cell_type": "code",
      "metadata": {},
      "source": [
        "shot_files = zip(profs_file_list, mps_file_list)\n",
        "prof_mean, mp_mean = RunningStats('prof'), RunningStats('mp')\n",
        "gas_idxs = [relevant_mp_columns.index(name) for name in ['D_tot', 'N_tot'] if name in relevant_mp_columns]\n",
        "for k, (prof, mp) in enumerate(shot_files): \n",
        "    prof, mp = np.load(prof), np.load(mp)\n",
        "    prof[:, 0]*= 1e-19\n",
        "    for idx in gas_idxs: \n",
        "        mp[:, idx]*= 1e-22\n",
        "    for t_idx in range(len(prof)): \n",
        "        p, m = prof[t_idx], mp[t_idx]\n",
        "        prof_mean.push(p)    \n",
        "        mp_mean.push(m)"
      ],
      "id": "76b63855",
      "execution_count": null,
      "outputs": []
    },
    {
      "cell_type": "code",
      "metadata": {},
      "source": [
        "fig = plt.figure(figsize=(10, 5), tight_layout=True)\n",
        "\n",
        "for i, dim in enumerate(['Density ($10^{19}$m$^{-3}$)', 'Temperature (eV)']):\n",
        "    plt.subplot(1, 2, i+1)\n",
        "    plt.fill_between(list(range(len(prof_mean.mean()[i]))), prof_mean.mean()[i] - prof_mean.standard_deviation()[i], prof_mean.mean()[i] + prof_mean.standard_deviation()[i], color='grey')\n",
        "    plt.plot(prof_mean.mean()[i])\n",
        "    plt.ylim(0, max(prof_mean.mean()[i] + 1.25*prof_mean.standard_deviation()[i]))\n",
        "    plt.title(dim)\n",
        "fig.suptitle('Mean and 1$\\sigma$ of Profiles in Dataset')\n",
        "plt.show()\n",
        "\n",
        "fig = plt.figure(figsize=(10, 5), tight_layout=True)\n",
        "for i, dim in enumerate(['Density ($10^{19}$m$^{-3}$)', 'Temperature (eV)']):\n",
        "    plt.subplot(1, 2, i+1)\n",
        "    # plt.fill_between(list(range(len(prof_mean.mean()[i]))), prof_mean.mean()[i] - prof_mean.standard_deviation()[i], prof_mean.mean()[i] + prof_mean.standard_deviation()[i], color='grey')\n",
        "    plt.plot(prof_mean._max()[i])\n",
        "    plt.plot(prof_mean._min()[i])\n",
        "    # plt.ylim(0, max(prof_mean.mean()[i] + 1.25*prof_mean.standard_deviation()[i]))\n",
        "    plt.title(dim)\n",
        "fig.suptitle('Max/min for each radial coord. of profiles in Dataset')\n",
        "plt.show()"
      ],
      "id": "99d22b5c",
      "execution_count": null,
      "outputs": []
    },
    {
      "cell_type": "markdown",
      "metadata": {},
      "source": [
        "Well, we still have some very high values, but should work out in the end...\n",
        "### Machine parameters"
      ],
      "id": "0513a254"
    },
    {
      "cell_type": "code",
      "metadata": {},
      "source": [
        "as_dict = {name: [m, sd, ma, mi] for name, m, sd, ma, mi in zip(relevant_mp_columns, mp_mean.mean(), mp_mean.standard_deviation(), mp_mean._max(), mp_mean._min())}\n",
        "as_dict.update({'Param': ['Mean', 'Sd', 'Max', 'Min']})\n",
        "machine_params_summary_df = pd.DataFrame(as_dict).set_index('Param')\n",
        "machine_params_summary_df.T"
      ],
      "id": "0dc156ae",
      "execution_count": null,
      "outputs": []
    }
  ],
  "metadata": {
    "kernelspec": {
      "name": "python3",
      "language": "python",
      "display_name": "Python 3"
    }
  },
  "nbformat": 4,
  "nbformat_minor": 5
}