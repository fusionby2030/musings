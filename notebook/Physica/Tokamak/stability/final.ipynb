{
  "cells": [
    {
      "cell_type": "raw",
      "metadata": {},
      "source": [
        "---\n",
        "title: \"Approximations of stability parameters\"\n",
        "\n",
        "execute: \n",
        "  echo: false\n",
        "  warning: false\n",
        "\n",
        "fig-width: 10 \n",
        "fig-height: 10\n",
        "---"
      ],
      "id": "8c8d4700"
    },
    {
      "cell_type": "code",
      "metadata": {},
      "source": [
        "import os \n",
        "import numpy as np\n",
        "import matplotlib as mpl\n",
        "import matplotlib.pyplot as plt \n",
        "\n",
        "if os.getenv('PLOTSTYLE') is not None: \n",
        "    plt.style.use(os.getenv('PLOTSTYLE'))\n",
        "RED = \"#dd3015\"\n",
        "GREEN = \"#489A8C\"\n",
        "DARK = \"#1C2C22\"\n",
        "GOLD = \"#F87D16\"\n",
        "WHITE = \"#FFFFFF\"\n",
        "BLUE = \"#2E6C96\"\n",
        "# mpl.rcParams['axes.prop_cycle'] = mpl.cycler(color=[RED, GREEN, DARK, GOLD, WHITE, BLUE]) \n",
        "from helper_functions import get_numpy_arrays_from_local_data\n",
        "from physics_functions import calculate_boostrap_current, find_j_max_from_boostrap_current,calculate_alpha\n",
        "# conn = get_allas_connection()\n",
        "\n",
        "local_dir = '/home/kitadam/ENR_Sven/ped_ssm/local_data_ptot_wmhd_plh'"
      ],
      "id": "0bb608d4",
      "execution_count": null,
      "outputs": []
    },
    {
      "cell_type": "code",
      "metadata": {},
      "source": [
        "shot_num =  35899 # 38933- no ELMs regime # 33616 37450\n",
        "# 35899 or 37620 or 37818\n",
        "[profiles, mps, radii, times], mp_names = get_numpy_arrays_from_local_data(shot_num, local_dir)\n",
        "ne, te = profiles[:, 0], profiles[:, 1]\n",
        "pe = ne*te*(1.602e-19) \n",
        "colors = [(t - times[0] )/ (times[-1] - times[0]) for t in times]\n",
        "colors_t = [(c, 0.5, 0.5) for c in colors]"
      ],
      "id": "51a48d23",
      "execution_count": null,
      "outputs": []
    },
    {
      "cell_type": "code",
      "metadata": {},
      "source": [
        "X, Y = np.meshgrid(radii[0], times)\n",
        "fig, ax = plt.subplots(1, 3, subplot_kw={\"projection\": \"3d\"}, figsize=(20, 10))\n",
        "\n",
        "surf = ax[0].plot_surface(X, Y, 1e-20*ne, cmap=mpl.cm.Spectral_r, linewidth=0)\n",
        "surf = ax[1].plot_surface(X, Y, (1e-4*te), cmap=mpl.cm.Spectral_r, linewidth=0)\n",
        "surf = ax[2].plot_surface(X, Y, pe / 1000.0, cmap=mpl.cm.Spectral_r, linewidth=0)\n",
        "for a in ax: \n",
        "    a.set_xlabel(r'$\\rho$', labelpad=10.0)\n",
        "    a.set_ylabel('time (s)', labelpad=10.0)\n",
        "\n",
        "ax[0].set_title('$n_e$ ($10^{20}$ m$^{-3}$)', y=0.98)\n",
        "ax[1].set_title('$T_e$ (keV)', y=0.98)\n",
        "ax[2].set_title('$P_e$ (kPa)', y=0.98)\n",
        "fig.suptitle(f'AUG {shot_num}: electron profiles via IDA', y=0.9)\n",
        "fig.subplots_adjust(wspace=0.01)"
      ],
      "id": "22274da7",
      "execution_count": null,
      "outputs": []
    },
    {
      "cell_type": "code",
      "metadata": {},
      "source": [
        "boostrap_currents = np.zeros_like(ne)\n",
        "pressure_gradients = np.zeros_like(ne)\n",
        "jb_maxes, alpha_maxes =  np.zeros_like(times), np.zeros_like(times)\n",
        "for n, idx in enumerate(times): \n",
        "    ahor = mps[n, mp_names.index('ahor')]\n",
        "    q95 =  abs(mps[n, mp_names.index('q95')])\n",
        "    rgeo =  mps[n, mp_names.index('Rgeo')]\n",
        "    bt = abs(mps[n, mp_names.index('BTF')])\n",
        "    vp = abs(mps[n, mp_names.index('Vol')])\n",
        "\n",
        "    boostrap_current_approx = calculate_boostrap_current(pe[n], te[n], ne[n], radii[n], rgeo, ahor, q95, bt)\n",
        "    pressure_gradient = -np.gradient(pe[n])\n",
        "    alpha_gradient = calculate_alpha(pe[n], radii[n], vp, rgeo)\n",
        "    boostrap_currents[n] = boostrap_current_approx\n",
        "    pressure_gradients[n] = alpha_gradient\n",
        "    max_jb, rad_max_jb, index_max_jb = find_j_max_from_boostrap_current(boostrap_current_approx, radii[n])\n",
        "    jb_maxes[n] = max_jb\n",
        "    alpha, rho_alpha, p_alpha = find_j_max_from_boostrap_current(alpha_gradient, radii[n])\n",
        "    alpha_maxes[n] = alpha"
      ],
      "id": "885278c0",
      "execution_count": null,
      "outputs": []
    },
    {
      "cell_type": "code",
      "metadata": {},
      "source": [
        "fig, ax = plt.subplots(1, 2, subplot_kw={\"projection\": \"3d\"}, figsize=(20, 10))\n",
        "\n",
        "surf = ax[0].plot_surface(X, Y, boostrap_currents, cmap=mpl.cm.Spectral_r, linewidth=0)\n",
        "surf = ax[1].plot_surface(X, Y, pressure_gradients, cmap=mpl.cm.Spectral_r, linewidth=0)\n",
        "for a in ax: \n",
        "    a.set_xlabel(r'$\\rho$', labelpad=10.0)\n",
        "    a.set_ylabel('time (s)', labelpad=10.0)\n",
        "\n",
        "ax[0].set_title('$j_B$ [MA]', y=0.98)\n",
        "ax[1].set_title(r'$\\nabla p_e$ (kPa)', y=0.98)\n",
        "fig.suptitle(f'AUG {shot_num}: bootstrap current approximation', y=0.9)\n",
        "fig.subplots_adjust(wspace=0.01)"
      ],
      "id": "9e73328a",
      "execution_count": null,
      "outputs": []
    },
    {
      "cell_type": "code",
      "metadata": {},
      "source": [
        "fig, (jb_ax,alpha_ax) = plt.subplots(3, 1, figsize=(10, 5), sharex=True)\n",
        "jb_ax.scatter(times, jb_maxes, edgecolors=(0, 0, 0))\n",
        "alpha_ax.scatter(times, alpha_maxes, edgecolors=(0, 0, 0))\n",
        "# axins = alpha_ax.inset_axes([0.5, 0.2, 0.48, 0.7])\n",
        "# axins.scatter(times, alpha_maxes, edgecolors=(0, 0, 0))\n",
        "# axins.set_ylim(0, 1200)\n",
        "# axins.set_xlim(4.2, 4.3)\n",
        "# alpha_ax.indicate_inset_zoom(axins, edgecolor=\"black\")\n",
        "\n",
        "fig, ax = plt.subplots(1, 1)\n",
        "ax.scatter(alpha_maxes, jb_maxes, c=colors_t)\n",
        "plt.show()"
      ],
      "id": "3a0be08e",
      "execution_count": null,
      "outputs": []
    },
    {
      "cell_type": "code",
      "metadata": {},
      "source": [
        "# from scipy.signal import correlate\n",
        "N = 100\n",
        "moving_average = np.convolve(jb_maxes, np.ones(N)/N, mode='same')\n",
        "# Plot the autocorrelation results\n",
        "fig = plt.figure()\n",
        "plt.plot(times, moving_average)\n",
        "plt.xlabel('t')\n",
        "plt.ylabel('moving average')\n",
        "plt.show()"
      ],
      "id": "315e9651",
      "execution_count": null,
      "outputs": []
    },
    {
      "cell_type": "code",
      "metadata": {},
      "source": [
        "from scipy.fft import fft, fftfreq\n",
        "\n",
        "N = len(times)\n",
        "T = times[1] - times[0]\n",
        "normed_sig = (jb_maxes - jb_maxes.mean()) / jb_maxes.std()\n",
        "yf = fft(normed_sig)\n",
        "xf = fftfreq(N, T)[:N//2] \n",
        "plt.plot(xf, 2.0/N * np.abs(yf[0:N//2]))\n",
        "plt.grid()\n",
        "plt.show()"
      ],
      "id": "068c2ea5",
      "execution_count": null,
      "outputs": []
    }
  ],
  "metadata": {
    "kernelspec": {
      "name": "python3",
      "language": "python",
      "display_name": "Python 3"
    }
  },
  "nbformat": 4,
  "nbformat_minor": 5
}